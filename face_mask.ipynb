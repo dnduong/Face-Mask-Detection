{
 "cells": [
  {
   "cell_type": "code",
   "execution_count": 1,
   "id": "30c83204-ddc2-41df-acf5-d5253ae24927",
   "metadata": {},
   "outputs": [],
   "source": [
    "import numpy as np\n",
    "import cv2 \n",
    "import matplotlib.pyplot as plt\n",
    "import tensorflow as tf\n",
    "from tensorflow.keras.models import load_model\n",
    "import imageio"
   ]
  },
  {
   "cell_type": "code",
   "execution_count": 2,
   "id": "4f586446-ecc2-4bb0-9822-cb92e09a83fd",
   "metadata": {},
   "outputs": [],
   "source": [
    "face_cascade = cv2.CascadeClassifier('haarcascade_frontalface_default.xml')\n",
    "face_mask_classification = load_model(\"mask_classification.h5\")\n",
    "classes_names = ['MASK', 'NO MASK']\n",
    "font = cv2.FONT_HERSHEY_SIMPLEX\n",
    "img_size = (64,64)"
   ]
  },
  {
   "cell_type": "code",
   "execution_count": 3,
   "id": "e96a7a4b-1f16-4d06-a7c5-e713e5308bc3",
   "metadata": {},
   "outputs": [],
   "source": [
    "def classify_mask(crop):\n",
    "    \"\"\"\n",
    "    classify cropped image : mask or no mask\n",
    "    \"\"\"\n",
    "    crop = cv2.resize(crop,img_size)\n",
    "    crop = np.expand_dims(crop, axis=0)\n",
    "    proba = face_mask_classification.predict(tf.convert_to_tensor(crop))\n",
    "    proba = proba.squeeze()\n",
    "    class_name = classes_names[0 if proba < 0.5 else 1]\n",
    "    return proba, class_name"
   ]
  },
  {
   "cell_type": "code",
   "execution_count": 4,
   "id": "cb0bd72c-f806-4681-a136-bc570c3e17db",
   "metadata": {},
   "outputs": [],
   "source": [
    "def detect_face_mask(save_gif = False, save_path = None):\n",
    "    \"\"\"\n",
    "    detect face mask using camera\n",
    "    Params : \n",
    "    save_gif : if True save result as gif\n",
    "    save_path : path to save the gif image\n",
    "    \"\"\"\n",
    "    cap = cv2.VideoCapture(0)\n",
    "    if not cap.isOpened():\n",
    "        print(\"Cannot open camera\")\n",
    "        exit()\n",
    "    frames = []\n",
    "    while True:\n",
    "        # Capture frame-by-frame\n",
    "        ret, frame = cap.read()\n",
    "        # if frame is read correctly ret is True\n",
    "        if not ret:\n",
    "            print(\"Can't receive frame (stream end?). Exiting ...\")\n",
    "            break\n",
    "        #reduce camera window\n",
    "        frame = frame[:280,100:540]\n",
    "        # Our operations on the frame come here\n",
    "        # Display the resulting frame\n",
    "        gray = cv2.cvtColor(frame, cv2.COLOR_BGR2GRAY)\n",
    "        faces = face_cascade.detectMultiScale(gray, minSize = (100,100))\n",
    "        for x,y,w,h in faces:\n",
    "            crop = frame[y:y+h,x:x+w]\n",
    "            proba, class_name = classify_mask(crop)\n",
    "            if class_name == \"MASK\":\n",
    "                cv2.rectangle(frame, (x+90, y-15), (x, y), (0, 255, 0), -1)\n",
    "                cv2.putText(frame, f'{class_name}: %.2f '%(1-proba), (x, y-5), font, 0.4, (255, 255, 255), 1)\n",
    "                cv2.rectangle(frame, (x, y), (x+w, y+h), (0, 255, 0), 2)\n",
    "            else:\n",
    "                cv2.rectangle(frame, (x+90, y-15), (x, y), (0, 0, 255), -1)\n",
    "                cv2.putText(frame, f'{class_name}: %.2f '%proba, (x, y-5), font, 0.4, (255, 255, 255), 1)\n",
    "                cv2.rectangle(frame, (x, y), (x+w, y+h), (0, 0, 255), 2)\n",
    "        if save_gif:\n",
    "            frames.append(frame)\n",
    "        cv2.imshow('frame', frame)\n",
    "        if cv2.waitKey(1) == ord('q'):\n",
    "            break\n",
    "    # When everything done, release the capture\n",
    "    cap.release()\n",
    "    cv2.destroyAllWindows()\n",
    "    if save_gif:\n",
    "        print(\"Saving GIF file\")\n",
    "        with imageqio.get_writer(save_path, mode=\"I\") as writer:\n",
    "            for frame in frames:\n",
    "                frame = cv2.cvtColor(frame, cv2.COLOR_BGR2RGB)\n",
    "                writer.append_data(frame)"
   ]
  },
  {
   "cell_type": "code",
   "execution_count": 9,
   "id": "4684e434-e334-4b20-a3f4-83ef6455926c",
   "metadata": {},
   "outputs": [
    {
     "name": "stdout",
     "output_type": "stream",
     "text": [
      "Saving GIF file\n"
     ]
    }
   ],
   "source": [
    "detect_face_mask(save_gif = True, save_path = \"face_mask_detection.gif\")"
   ]
  },
  {
   "cell_type": "code",
   "execution_count": null,
   "id": "1fe0153f-4896-45cc-856a-7517009607b2",
   "metadata": {},
   "outputs": [],
   "source": []
  }
 ],
 "metadata": {
  "kernelspec": {
   "display_name": "Python 3",
   "language": "python",
   "name": "python3"
  },
  "language_info": {
   "codemirror_mode": {
    "name": "ipython",
    "version": 3
   },
   "file_extension": ".py",
   "mimetype": "text/x-python",
   "name": "python",
   "nbconvert_exporter": "python",
   "pygments_lexer": "ipython3",
   "version": "3.8.10"
  }
 },
 "nbformat": 4,
 "nbformat_minor": 5
}
